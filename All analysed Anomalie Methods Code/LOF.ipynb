{
 "cells": [
  {
   "cell_type": "code",
   "execution_count": null,
   "metadata": {},
   "outputs": [],
   "source": [
    "import numpy as np\n",
    "import pandas as pd\n",
    "import matplotlib.pyplot as plt\n",
    "from sklearn.neighbors import LocalOutlierFactor\n",
    "import tensorflow as tf\n",
    "from tensorflow.keras.models import Sequential\n",
    "from tensorflow.keras.layers import LSTM, Dense\n",
    "from sklearn.preprocessing import MinMaxScaler\n",
    "import os"
   ]
  },
  {
   "cell_type": "code",
   "execution_count": null,
   "metadata": {},
   "outputs": [],
   "source": [
    "# Set workspace\n",
    "workspace_path = r\"C:\\Users\\kaefer\\Desktop\\Schulemappe\\Master\\MasterEBusiness\\E Business Seminar\\NAB-master\"\n",
    "os.chdir(workspace_path)\n",
    "print(f\"Current working directory: {os.getcwd()}\")"
   ]
  },
  {
   "cell_type": "code",
   "execution_count": null,
   "metadata": {},
   "outputs": [],
   "source": [
    "# Load Time Series Dataset from CSV\n",
    "path = \"data//artificialNoAnomaly//art_daily_small_noise.csv\"\n",
    "df = pd.read_csv(path, parse_dates=[\"timestamp\"])\n"
   ]
  },
  {
   "cell_type": "code",
   "execution_count": null,
   "metadata": {},
   "outputs": [],
   "source": [
    "df[\"timestamp\"] = pd.to_datetime(df[\"timestamp\"])\n",
    "df.set_index(\"timestamp\", inplace=True)"
   ]
  },
  {
   "cell_type": "code",
   "execution_count": null,
   "metadata": {},
   "outputs": [],
   "source": [
    "scaler = MinMaxScaler()\n",
    "df[\"scaled_value\"] = scaler.fit_transform(df[[\"value\"]])\n"
   ]
  },
  {
   "cell_type": "code",
   "execution_count": null,
   "metadata": {},
   "outputs": [],
   "source": [
    "sequence_length = 10\n",
    "X, y = [], []\n",
    "for i in range(len(df) - sequence_length):\n",
    "    X.append(df[\"scaled_value\"].iloc[i:i + sequence_length].values)\n",
    "    y.append(df[\"scaled_value\"].iloc[i + sequence_length])\n",
    "\n",
    "X, y = np.array(X), np.array(y)"
   ]
  },
  {
   "cell_type": "code",
   "execution_count": null,
   "metadata": {},
   "outputs": [],
   "source": [
    "model = Sequential([\n",
    "    LSTM(50, activation=\"relu\", return_sequences=False, input_shape=(sequence_length, 1)),\n",
    "    Dense(1)\n",
    "])\n",
    "model.compile(optimizer=\"adam\", loss=\"mse\")\n",
    "model.fit(X, y, epochs=50, batch_size=8, verbose=0)\n"
   ]
  },
  {
   "cell_type": "code",
   "execution_count": null,
   "metadata": {},
   "outputs": [],
   "source": [
    "predictions = model.predict(X)\n",
    "df[\"forecast\"] = np.nan\n",
    "df.iloc[sequence_length:, df.columns.get_loc(\"forecast\")] = scaler.inverse_transform(predictions.reshape(-1, 1)).flatten()\n"
   ]
  },
  {
   "cell_type": "code",
   "execution_count": null,
   "metadata": {},
   "outputs": [],
   "source": [
    "lof = LocalOutlierFactor(n_neighbors=20, contamination=0.05)\n",
    "df.dropna(subset=[\"forecast\"], inplace=True)\n",
    "df[\"anomaly\"] = lof.fit_predict(df[[\"forecast\"]]) == -1"
   ]
  },
  {
   "cell_type": "code",
   "execution_count": null,
   "metadata": {},
   "outputs": [],
   "source": [
    "#  Anomaly Mitigation  Interpolation**\n",
    "df[\"smoothed_value\"] = df[\"value\"]\n",
    "df.loc[df[\"anomaly\"], \"smoothed_value\"] = np.nan\n",
    "df[\"smoothed_value\"] = df[\"smoothed_value\"].interpolate(method=\"time\")"
   ]
  },
  {
   "cell_type": "code",
   "execution_count": null,
   "metadata": {},
   "outputs": [],
   "source": [
    "# Plot \n",
    "plt.figure(figsize=(12, 6))\n",
    "plt.plot(df.index, df[\"value\"], label=\"Original Values\", color=\"blue\", alpha=0.6)\n",
    "plt.plot(df.index, df[\"forecast\"], label=\"LSTM Forecast\", linestyle=\"dashed\", color=\"green\", alpha=0.6, linewidth=0.7)\n",
    "plt.scatter(df.index[df[\"anomaly\"]], df[\"forecast\"][df[\"anomaly\"]], color=\"red\", label=\"Anomalies\", marker=\"x\")\n",
    "plt.plot(df.index, df[\"smoothed_value\"], label=\"Interpolated Forecast\", color=\"orange\", linewidth=0.5)\n",
    "plt.title(\"Trend and Anomalies Detection using LSTM_LOF_Interpolation\")\n",
    "plt.xlabel(\"Timestamp\")\n",
    "plt.ylabel(\"Value\")\n",
    "plt.legend()\n",
    "plt.xticks(rotation=45)\n",
    "plt.show()\n"
   ]
  },
  {
   "cell_type": "code",
   "execution_count": null,
   "metadata": {},
   "outputs": [],
   "source": [
    "# Statistics on Anomalies\n",
    "original_anomalies_count = df[\"anomaly\"].sum()\n",
    "print(f\"Original Anomalies Detected: {original_anomalies_count}\")\n",
    "original_variance = np.var(df[\"value\"])\n",
    "smoothed_variance = np.var(df[\"smoothed_value\"])\n",
    "print(f\"Original Variance: {original_variance:.4f}\")\n",
    "print(f\"Smoothed Variance: {smoothed_variance:.4f}\")\n",
    "print(f\"Variance Reduction: {original_variance - smoothed_variance:.4f}\")"
   ]
  },
  {
   "cell_type": "code",
   "execution_count": null,
   "metadata": {},
   "outputs": [],
   "source": []
  },
  {
   "cell_type": "code",
   "execution_count": null,
   "metadata": {},
   "outputs": [],
   "source": []
  },
  {
   "cell_type": "code",
   "execution_count": null,
   "metadata": {},
   "outputs": [],
   "source": []
  },
  {
   "cell_type": "code",
   "execution_count": null,
   "metadata": {},
   "outputs": [],
   "source": []
  }
 ],
 "metadata": {
  "language_info": {
   "name": "python"
  }
 },
 "nbformat": 4,
 "nbformat_minor": 2
}
